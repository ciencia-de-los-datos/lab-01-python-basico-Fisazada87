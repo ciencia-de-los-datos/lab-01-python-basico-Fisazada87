{
 "cells": [
  {
   "cell_type": "code",
   "execution_count": 1,
   "metadata": {},
   "outputs": [
    {
     "data": {
      "text/plain": [
       "[['E', '1', '1999-02-28', 'b,g,f', 'jjj:12,bbb:3,ddd:9,ggg:8,hhh:2'],\n",
       " ['A', '2', '1999-10-28', 'a,f,c', 'ccc:2,ddd:0,aaa:3,hhh:9'],\n",
       " ['B', '5', '1998-05-02', 'f,e,a,c', 'ddd:2,ggg:5,ccc:6,jjj:12'],\n",
       " ['A', '3', '1999-08-28', 'a,b', 'hhh:9,iii:5,eee:7,bbb:1'],\n",
       " ['C', '6', '1999-12-01', 'f,g,d,a', 'iii:6,ddd:5,eee:4,jjj:12'],\n",
       " ['A', '7', '1998-07-28', 'c,d', 'bbb:2,hhh:0,ccc:4,fff:1,aaa:7'],\n",
       " ['A', '9', '1997-02-28', 'g,d,a', 'aaa:5,fff:8,ddd:2,iii:0,jjj:7,ccc:1'],\n",
       " ['B', '1', '1999-05-10', 'b,a', 'fff:3,hhh:1,ddd:2'],\n",
       " ['E', '2', '1997-04-12', 'd,e,a,f', 'eee:4,ccc:5,iii:9,fff:7,ggg:6,bbb:2'],\n",
       " ['B', '3', '1999-11-23', 'd,b,g,f', 'bbb:7,jjj:9,fff:5,iii:4,ggg:3,eee:3'],\n",
       " ['C', '7', '1998-01-17', 'd,c,f,b', 'hhh:6,eee:4,iii:0,fff:2,jjj:12'],\n",
       " ['C', '5', '1998-12-28', 'd,e,a,c', 'bbb:7,iii:6,ggg:9'],\n",
       " ['D', '3', '1999-10-15', 'g,e,f,b', 'bbb:9,aaa:3,ccc:6,fff:4,eee:2'],\n",
       " ['E', '8', '1998-11-01', 'c,f', 'aaa:8,ddd:5,jjj:12'],\n",
       " ['B', '9', '1999-08-12', 'd,b', 'ccc:7,jjj:6,fff:7,ddd:3,aaa:2'],\n",
       " ['D', '8', '1997-12-01', 'f,e', 'ccc:8,eee:6,bbb:9,ddd:3'],\n",
       " ['E', '3', '1997-07-28', 'e,b,f', 'bbb:6,iii:3,hhh:5,fff:4,ggg:9,ddd:2'],\n",
       " ['D', '5', '1998-08-12', 'g,a', 'hhh:4,jjj:5,ccc:9'],\n",
       " ['E', '8', '1999-08-24', 'e,c,f,a', 'ccc:1,iii:6,fff:9'],\n",
       " ['E', '9', '1998-01-23', 'e,a', 'bbb:9,aaa:3,fff:1'],\n",
       " ['E', '7', '1999-06-22', 'e,f', 'ddd:9,iii:2,aaa:4'],\n",
       " ['E', '3', '1999-04-24', 'c,b,g', 'ccc:5,fff:8,iii:7'],\n",
       " ['D', '5', '1999-06-25', 'c,f,a', 'eee:3,jjj:17,ddd:7'],\n",
       " ['A', '9', '1999-08-25', 'f,a,d', 'jjj:12,ggg:7,ccc:7,ddd:9,bbb:3'],\n",
       " ['E', '4', '1997-07-26', 'c,d', 'jjj:6,ccc:4,aaa:1,hhh:9,iii:7,ggg:8'],\n",
       " ['E', '6', '1997-09-24', 'e,d,c', 'fff:3,eee:6,iii:4,bbb:7,ddd:4,ccc:1'],\n",
       " ['A', '8', '1997-09-28', 'a,e,f', 'fff:0,ddd:5,ccc:4'],\n",
       " ['E', '5', '1999-06-22', 'c,a,g', 'ggg:6,hhh:3,ddd:9,ccc:10,jjj:7'],\n",
       " ['A', '6', '1999-07-29', 'f,e', 'hhh:6,jjj:13,eee:5,iii:7,ccc:3'],\n",
       " ['C', '0', '1999-08-22', 'f,c,a,g', 'eee:1,fff:4,aaa:2,ccc:7,ggg:10,ddd:6'],\n",
       " ['A', '9', '1998-04-26', 'b,f', 'ccc:6,aaa:9,eee:5,ddd:0,bbb:3'],\n",
       " ['D', '3', '1998-02-24', 'b,f', 'bbb:7,hhh:1,aaa:6,iii:4,fff:9,ddd:5'],\n",
       " ['E', '5', '1999-03-24', 'a,c', 'fff:3,ccc:1,ggg:3,eee:5'],\n",
       " ['B', '4', '1998-03-23', 'b,f,c', 'iii:7,ggg:3,ddd:0,jjj:8,hhh:5,ccc:1'],\n",
       " ['B', '6', '1999-04-21', 'f,a,e', 'hhh:6,ccc:3,jjj:9,bbb:8,ddd:7'],\n",
       " ['D', '7', '1999-02-29', 'a,f', 'aaa:1,fff:5,ddd:3'],\n",
       " ['B', '8', '1997-05-21', 'c,a', 'ddd:5,jjj:17,iii:7,ccc:10,bbb:4'],\n",
       " ['C', '9', '1997-07-22', 'c,a,e,f', 'eee:3,fff:2,hhh:6'],\n",
       " ['E', '1', '1999-09-28', 'e,d', 'fff:9,iii:2,eee:5'],\n",
       " ['E', '5', '1998-01-26', 'f,a,d', 'hhh:8,ggg:3,jjj:5']]"
      ]
     },
     "execution_count": 1,
     "metadata": {},
     "output_type": "execute_result"
    }
   ],
   "source": [
    "\n",
    "# Defino una función asociada a la lectura del documento\n",
    "import csv\n",
    "\n",
    "def lectura_de_documento():\n",
    "    \n",
    "# leo el documento csv\n",
    "\n",
    "    archivo_csv=\"data.csv\"\n",
    "    with open (archivo_csv,\"r\") as file:\n",
    "        lista_texto=file.readlines()\n",
    "\n",
    "# organizar los datos, reemplazar sonido de carro por espacio y separar en una lista de listas\n",
    "    lista_texto=[i.replace(\"\\n\",\"\") for i in lista_texto]\n",
    "    lista_texto=[i.split(\"\\t\") for i in lista_texto]\n",
    "\n",
    "    return lista_texto\n",
    "\n",
    "lectura_de_documento()"
   ]
  },
  {
   "cell_type": "code",
   "execution_count": 147,
   "metadata": {},
   "outputs": [
    {
     "data": {
      "text/plain": [
       "214"
      ]
     },
     "execution_count": 147,
     "metadata": {},
     "output_type": "execute_result"
    }
   ],
   "source": [
    "#solución pregunta N°1\n",
    "\n",
    "def pregunta_01():\n",
    "# creo una variable que me traiga la función de lectura del csv\n",
    "    lectura_texto = lectura_de_documento()\n",
    "\n",
    "# creo una lista para almacenar los datos de la segunda columna\n",
    "# y una variable que me permtirá sumar los valores\n",
    "# al ingresar los valores en la lista, ingresarán como tipo número \n",
    "\n",
    "    respuesta=0\n",
    "    lista_columna_2=[]\n",
    "\n",
    "    for lista_interna in lectura_texto:\n",
    "        lista_columna_2.append(int(lista_interna[1]))\n",
    "\n",
    "# creo una iteración que me permita sumar los números \n",
    "\n",
    "    for i in lista_columna_2:\n",
    "        respuesta+=i\n",
    "        \n",
    "    return respuesta\n",
    "\n",
    "pregunta_01()"
   ]
  },
  {
   "cell_type": "code",
   "execution_count": 154,
   "metadata": {},
   "outputs": [
    {
     "data": {
      "text/plain": [
       "[('A', 8), ('B', 7), ('C', 5), ('D', 6), ('E', 14)]"
      ]
     },
     "execution_count": 154,
     "metadata": {},
     "output_type": "execute_result"
    }
   ],
   "source": [
    "#solución pregunta N°2\n",
    "def pregunta_02():\n",
    "\n",
    "    lista_texto=lectura_de_documento()\n",
    "\n",
    "# Para la operación creo una lista y un diccionario vacío\n",
    "\n",
    "    lista=[]\n",
    "    diccionario={}\n",
    "\n",
    "# lleno la lista con una tupla conformada por la letra y un valor 1\n",
    "# ordeno la lista con base en el primer elemento de la tupla x[0] a través de una función anónima\n",
    "\n",
    "    for i in lista_texto:\n",
    "        lista.append((i[0],1))\n",
    "        lista= sorted(lista, key=lambda x:x[0])\n",
    "\n",
    "# a partir de la tupla conformada por clave, valor, lleno el diccionario.\n",
    "    for key, value in lista:\n",
    "        if key not in diccionario.keys():\n",
    "            diccionario[key]=[]\n",
    "        diccionario[key].append(value)\n",
    "    \n",
    "# realizo la sumatoria de los valores, a partir de una lista vacía\n",
    "    respuesta=[]\n",
    "\n",
    "    for key, valor in diccionario.items():\n",
    "        respuesta.append((key,sum(valor)))\n",
    "    \n",
    "    return respuesta \n",
    "\n",
    "pregunta_02()"
   ]
  },
  {
   "cell_type": "code",
   "execution_count": 153,
   "metadata": {},
   "outputs": [
    {
     "data": {
      "text/plain": [
       "[('A', 53), ('B', 36), ('C', 27), ('D', 31), ('E', 67)]"
      ]
     },
     "execution_count": 153,
     "metadata": {},
     "output_type": "execute_result"
    }
   ],
   "source": [
    "# solución pregunta N°3\n",
    "\n",
    "def pregunta_03():\n",
    "\n",
    "    lista_texto=lectura_de_documento()\n",
    "\n",
    "# creamos una lista y un diccionario vacio\n",
    "\n",
    "    lista=[]\n",
    "    diccionario={}\n",
    "\n",
    "# llenamos la lista creada con una tupla, conformada por columna 1 y columna 2\n",
    "# la columna dos debe convertirse en número entero. \n",
    "\n",
    "    for i in lista_texto:\n",
    "        lista.append((i[0],int(i[1])))\n",
    "        lista=sorted(lista,key=lambda x:x[0])\n",
    "\n",
    "# llenamos el diccionario con las tuplas, con clave, valor\n",
    "## preguntarle a Alejo la parte del append\n",
    "\n",
    "    for key, value in lista:\n",
    "        if key not in diccionario:\n",
    "            diccionario[key]=[]\n",
    "        diccionario[key].append(value)\n",
    "\n",
    "    respuesta=[]\n",
    "\n",
    "# realizo la sumatoria a partir del método items, el cual permite iterar sobre diccionarios\n",
    "\n",
    "    for key, value in diccionario.items():\n",
    "        respuesta.append((key,sum(value)))\n",
    "\n",
    "    return respuesta\n",
    "\n",
    "pregunta_03()\n"
   ]
  },
  {
   "cell_type": "code",
   "execution_count": 152,
   "metadata": {},
   "outputs": [
    {
     "data": {
      "text/plain": [
       "[('01', 3),\n",
       " ('02', 4),\n",
       " ('03', 2),\n",
       " ('04', 4),\n",
       " ('05', 3),\n",
       " ('06', 3),\n",
       " ('07', 5),\n",
       " ('08', 6),\n",
       " ('09', 3),\n",
       " ('10', 2),\n",
       " ('11', 2),\n",
       " ('12', 3)]"
      ]
     },
     "execution_count": 152,
     "metadata": {},
     "output_type": "execute_result"
    }
   ],
   "source": [
    "# Solución pregunta N°4\n",
    "def pregunta_04():\n",
    "\n",
    "    lista_texto=lectura_de_documento()\n",
    "\n",
    "    lista=[]\n",
    "\n",
    "    for i in lista_texto:\n",
    "        lista.append((i[2].split(\"-\")[1]))\n",
    "\n",
    "    lista_mes=[]   \n",
    "\n",
    "    for i in lista:\n",
    "        lista_mes.append((i,1))\n",
    "        lista_mes= sorted(lista_mes,key=lambda x:x[0])\n",
    "\n",
    "    diccionario={}\n",
    "\n",
    "    for key, value in lista_mes:\n",
    "        if key not in diccionario:\n",
    "            diccionario[key]=[]\n",
    "        diccionario[key].append(value)\n",
    "\n",
    "    respuesta=[]\n",
    "\n",
    "    for key, value in diccionario.items():\n",
    "        respuesta.append((key,sum(value)))\n",
    "\n",
    "    return respuesta    \n",
    "\n",
    "pregunta_04()"
   ]
  },
  {
   "cell_type": "code",
   "execution_count": 156,
   "metadata": {},
   "outputs": [
    {
     "data": {
      "text/plain": [
       "[('A', 9, 2), ('B', 9, 1), ('C', 9, 0), ('D', 8, 3), ('E', 9, 1)]"
      ]
     },
     "execution_count": 156,
     "metadata": {},
     "output_type": "execute_result"
    }
   ],
   "source": [
    "#solución pregunta 5\n",
    "def pregunta_05():\n",
    "\n",
    "    lista_texto=lectura_de_documento()\n",
    "\n",
    "    lista=[]\n",
    "\n",
    "    for i in lista_texto:\n",
    "        lista.append((i[0],int(i[1])))\n",
    "        lista=sorted(lista,key= lambda x:x[0])\n",
    "\n",
    "    diccionario={}\n",
    "\n",
    "    for key, value in lista:\n",
    "        if key not in diccionario:\n",
    "            diccionario[key]=[]\n",
    "        diccionario[key].append(value)\n",
    "\n",
    "    respuesta=[]\n",
    "\n",
    "    for key, value in diccionario.items():\n",
    "        respuesta.append((key,max(value),min(value)))\n",
    "\n",
    "    return respuesta \n",
    "\n",
    "pregunta_05()"
   ]
  },
  {
   "cell_type": "code",
   "execution_count": 177,
   "metadata": {},
   "outputs": [
    {
     "data": {
      "text/plain": [
       "[('aaa', 1, 9),\n",
       " ('bbb', 1, 9),\n",
       " ('ccc', 1, 10),\n",
       " ('ddd', 0, 9),\n",
       " ('eee', 1, 7),\n",
       " ('fff', 0, 9),\n",
       " ('ggg', 3, 10),\n",
       " ('hhh', 0, 9),\n",
       " ('iii', 0, 9),\n",
       " ('jjj', 5, 17)]"
      ]
     },
     "execution_count": 177,
     "metadata": {},
     "output_type": "execute_result"
    }
   ],
   "source": [
    "#Solución Pregunta N°6\n",
    "def pregunta_06():\n",
    "\n",
    "    lista_texto=lectura_de_documento()\n",
    "\n",
    "# lista = [i[4].split(\",\") for i in lista_texto[0:]]\n",
    "    lista=[]\n",
    "\n",
    "    for i in lista_texto:\n",
    "        lista.append(i[4].split(\",\"))\n",
    "\n",
    "    lista_2 = []\n",
    "    lista_3= []\n",
    "    \n",
    "    for i in lista:\n",
    "        for j in i:\n",
    "            lista_2 = tuple(j.split(\":\"))\n",
    "            lista_3.append(lista_2)\n",
    "\n",
    "    lista_3=sorted(lista_3,key=lambda x:x[0])\n",
    "\n",
    "    diccionario={}\n",
    "\n",
    "    for key, value in lista_3:\n",
    "        if key not in diccionario.keys(): \n",
    "            diccionario[key]=[]\n",
    "        diccionario[key].append(int(value))\n",
    "\n",
    "    respuesta=[]\n",
    "\n",
    "    for key, value in diccionario.items():\n",
    "        respuesta.append((key,min(value),max(value)))\n",
    "\n",
    "    return respuesta\n",
    "\n",
    "pregunta_06()"
   ]
  },
  {
   "cell_type": "code",
   "execution_count": 20,
   "metadata": {},
   "outputs": [
    {
     "data": {
      "text/plain": [
       "[(0, ['C']),\n",
       " (1, ['E', 'B', 'E']),\n",
       " (2, ['A', 'E']),\n",
       " (3, ['A', 'B', 'D', 'E', 'E', 'D']),\n",
       " (4, ['E', 'B']),\n",
       " (5, ['B', 'C', 'D', 'D', 'E', 'E', 'E']),\n",
       " (6, ['C', 'E', 'A', 'B']),\n",
       " (7, ['A', 'C', 'E', 'D']),\n",
       " (8, ['E', 'D', 'E', 'A', 'B']),\n",
       " (9, ['A', 'B', 'E', 'A', 'A', 'C'])]"
      ]
     },
     "execution_count": 20,
     "metadata": {},
     "output_type": "execute_result"
    }
   ],
   "source": [
    "#solución pregunta 7\n",
    "def pregunta_07():\n",
    "\n",
    "    lista_texto=lectura_de_documento()\n",
    "\n",
    "    lista=[]\n",
    "\n",
    "    for i in lista_texto:\n",
    "        lista.append((int(i[1]),i[0]))\n",
    "        lista = sorted(lista, key=lambda x: x[0])\n",
    "    \n",
    "    diccionario= {}\n",
    "\n",
    "    for key, value in lista:\n",
    "        if key not in diccionario.keys():\n",
    "            diccionario[key]=[]\n",
    "        diccionario[key].append(value)\n",
    "\n",
    "    respuesta=[]\n",
    "\n",
    "    for key, value in diccionario.items():\n",
    "        respuesta.append((key, value))\n",
    "        \n",
    "\n",
    "    return respuesta\n",
    "\n",
    "pregunta_07()"
   ]
  },
  {
   "cell_type": "code",
   "execution_count": 33,
   "metadata": {},
   "outputs": [
    {
     "data": {
      "text/plain": [
       "[(0, ['C']),\n",
       " (1, ['B', 'E']),\n",
       " (2, ['A', 'E']),\n",
       " (3, ['A', 'B', 'D', 'E']),\n",
       " (4, ['B', 'E']),\n",
       " (5, ['B', 'C', 'D', 'E']),\n",
       " (6, ['A', 'B', 'C', 'E']),\n",
       " (7, ['A', 'C', 'D', 'E']),\n",
       " (8, ['A', 'B', 'D', 'E']),\n",
       " (9, ['A', 'B', 'C', 'E'])]"
      ]
     },
     "execution_count": 33,
     "metadata": {},
     "output_type": "execute_result"
    }
   ],
   "source": [
    "# solución pregunta #8\n",
    "def pregunta_08():\n",
    "\n",
    "    lista_texto=lectura_de_documento()\n",
    "\n",
    "    lista=[]\n",
    "\n",
    "    for i in lista_texto:\n",
    "        lista.append((int(i[1]),i[0]))\n",
    "        lista = sorted(lista, key=lambda x: x[0])\n",
    "    \n",
    "    diccionario= {}\n",
    "\n",
    "    for key, value in lista:\n",
    "        if key not in diccionario.keys():\n",
    "            diccionario[key]=[]\n",
    "        diccionario[key].append(value)\n",
    "\n",
    "    respuesta=[]\n",
    "\n",
    "    for key, value in diccionario.items():\n",
    "        value=list(set(value))\n",
    "        values= \"\".join(value)\n",
    "        values= sorted(values)\n",
    "    \n",
    "        respuesta.append((key, values))\n",
    "\n",
    "    return respuesta\n",
    "\n",
    "pregunta_08()"
   ]
  },
  {
   "cell_type": "code",
   "execution_count": 53,
   "metadata": {},
   "outputs": [
    {
     "data": {
      "text/plain": [
       "{'aaa': 13,\n",
       " 'bbb': 16,\n",
       " 'ccc': 23,\n",
       " 'ddd': 23,\n",
       " 'eee': 15,\n",
       " 'fff': 20,\n",
       " 'ggg': 13,\n",
       " 'hhh': 16,\n",
       " 'iii': 18,\n",
       " 'jjj': 18}"
      ]
     },
     "execution_count": 53,
     "metadata": {},
     "output_type": "execute_result"
    }
   ],
   "source": [
    "# solución pregunta 9: \n",
    "def pregunta_09():\n",
    "\n",
    "    lista_texto=lectura_de_documento()\n",
    "\n",
    "    lista=[i[4].split(\",\") for i in lista_texto]\n",
    "\n",
    "    lista_3=[]\n",
    "\n",
    "    for i in lista:\n",
    "        for j in i:\n",
    "            lista_2= tuple(j.split(\":\"))\n",
    "            lista_3.append(lista_2)\n",
    "\n",
    "    lista_3= sorted(lista_3, key=lambda x: x[0])\n",
    "\n",
    "    diccionario={}\n",
    "\n",
    "    for key, value in lista_3:\n",
    "        if key not in diccionario.keys():\n",
    "            diccionario[key]=[]\n",
    "        diccionario[key].append(len(value))\n",
    "    \n",
    "    lista_4=[]\n",
    "\n",
    "    for key, value in diccionario.items():\n",
    "        lista_4.append((key,len(value)))\n",
    "\n",
    "    respuesta={key:value for key,value in lista_4}\n",
    "\n",
    "    return respuesta\n",
    "\n",
    "pregunta_09()"
   ]
  },
  {
   "cell_type": "code",
   "execution_count": 2,
   "metadata": {},
   "outputs": [
    {
     "data": {
      "text/plain": [
       "[('E', 3, 5),\n",
       " ('A', 3, 4),\n",
       " ('B', 4, 4),\n",
       " ('A', 2, 4),\n",
       " ('C', 4, 4),\n",
       " ('A', 2, 5),\n",
       " ('A', 3, 6),\n",
       " ('B', 2, 3),\n",
       " ('E', 4, 6),\n",
       " ('B', 4, 6),\n",
       " ('C', 4, 5),\n",
       " ('C', 4, 3),\n",
       " ('D', 4, 5),\n",
       " ('E', 2, 3),\n",
       " ('B', 2, 5),\n",
       " ('D', 2, 4),\n",
       " ('E', 3, 6),\n",
       " ('D', 2, 3),\n",
       " ('E', 4, 3),\n",
       " ('E', 2, 3),\n",
       " ('E', 2, 3),\n",
       " ('E', 3, 3),\n",
       " ('D', 3, 3),\n",
       " ('A', 3, 5),\n",
       " ('E', 2, 6),\n",
       " ('E', 3, 6),\n",
       " ('A', 3, 3),\n",
       " ('E', 3, 5),\n",
       " ('A', 2, 5),\n",
       " ('C', 4, 6),\n",
       " ('A', 2, 5),\n",
       " ('D', 2, 6),\n",
       " ('E', 2, 4),\n",
       " ('B', 3, 6),\n",
       " ('B', 3, 5),\n",
       " ('D', 2, 3),\n",
       " ('B', 2, 5),\n",
       " ('C', 4, 3),\n",
       " ('E', 2, 3),\n",
       " ('E', 3, 3)]"
      ]
     },
     "execution_count": 2,
     "metadata": {},
     "output_type": "execute_result"
    }
   ],
   "source": [
    "# solución pregunta 10\n",
    "def pregunta_10():\n",
    "\n",
    "    lista_texto=lectura_de_documento()\n",
    "\n",
    "    respuesta=[]\n",
    "\n",
    "    for i in lista_texto:\n",
    "        respuesta.append((i[0],len(i[3].split(\",\")), len(i[4].split(\",\"))))\n",
    "\n",
    "    return respuesta\n",
    "\n",
    "pregunta_10()"
   ]
  },
  {
   "cell_type": "code",
   "execution_count": 70,
   "metadata": {},
   "outputs": [
    {
     "data": {
      "text/plain": [
       "{'a': 122, 'b': 49, 'c': 91, 'd': 73, 'e': 86, 'f': 134, 'g': 35}"
      ]
     },
     "execution_count": 70,
     "metadata": {},
     "output_type": "execute_result"
    }
   ],
   "source": [
    "#solución pregunta 11\n",
    "def pregunta_11():\n",
    "\n",
    "    lista_texto=lectura_de_documento()\n",
    "\n",
    "    lista=[]\n",
    "\n",
    "    for i in lista_texto:\n",
    "        lista.append((i[3].split(\",\"), int(i[1])))\n",
    "\n",
    "    lista_tupla=[]\n",
    "\n",
    "\n",
    "    for key, value in lista:\n",
    "        for j in key:\n",
    "            lista_tupla.append((j,value))\n",
    "\n",
    "    lista_ordenada= sorted(lista_tupla,key= lambda x:x[0])\n",
    "\n",
    "    diccionario={}\n",
    "\n",
    "    for key, value in lista_ordenada:\n",
    "        if key not in diccionario.keys():\n",
    "            diccionario[key]=[]\n",
    "        diccionario[key].append(value)\n",
    "    \n",
    "    Lista_prueba=[]\n",
    "\n",
    "    for key, value in diccionario.items():\n",
    "        Lista_prueba.append((key, sum(value)))\n",
    "\n",
    "    respuesta={key:value for key, value in Lista_prueba}\n",
    "\n",
    "    return respuesta\n",
    "\n",
    "pregunta_11()"
   ]
  },
  {
   "cell_type": "code",
   "execution_count": 72,
   "metadata": {},
   "outputs": [
    {
     "data": {
      "text/plain": [
       "{'A': 177, 'B': 187, 'C': 114, 'D': 136, 'E': 324}"
      ]
     },
     "execution_count": 72,
     "metadata": {},
     "output_type": "execute_result"
    }
   ],
   "source": [
    "def pregunta_12():\n",
    "\n",
    "    lista_texto=lectura_de_documento()\n",
    "    \n",
    "    lista = []\n",
    "    diccionario ={}\n",
    "\n",
    "    for i in lista_texto:\n",
    "        \n",
    "        lista.append((i[0], i[4].split(\",\") ))         \n",
    "\n",
    "    list_tupla = []\n",
    "    list_tupla_2 = []\n",
    "    \n",
    "    for key, value in lista:        \n",
    "        for i in value:\n",
    "            list_tupla.append((key, i.split(\":\")))\n",
    "            \n",
    "    for key, value in list_tupla:\n",
    "        list_tupla_2.append((key, int(value[1])))\n",
    "\n",
    "    list_tupla_2 = sorted(list_tupla_2, key=lambda x: x[0])\n",
    "\n",
    "    for key, value in list_tupla_2:\n",
    "        if key not in diccionario.keys():\n",
    "            diccionario[key] = []\n",
    "        diccionario[key].append(value)\n",
    "        \n",
    "    list_Prob = []\n",
    "\n",
    "    for key, value in diccionario.items():\n",
    "            list_Prob.append((key, sum(value)))\n",
    "\n",
    "    respuesta = {key:value for key, value in list_Prob}    \n",
    "\n",
    "    return respuesta\n",
    "\n",
    "pregunta_12()"
   ]
  }
 ],
 "metadata": {
  "kernelspec": {
   "display_name": "Python 3",
   "language": "python",
   "name": "python3"
  },
  "language_info": {
   "codemirror_mode": {
    "name": "ipython",
    "version": 3
   },
   "file_extension": ".py",
   "mimetype": "text/x-python",
   "name": "python",
   "nbconvert_exporter": "python",
   "pygments_lexer": "ipython3",
   "version": "3.12.2"
  }
 },
 "nbformat": 4,
 "nbformat_minor": 2
}
